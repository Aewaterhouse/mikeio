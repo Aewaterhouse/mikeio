{
 "cells": [
  {
   "cell_type": "markdown",
   "metadata": {},
   "source": [
    "# Default to single precision"
   ]
  },
  {
   "cell_type": "code",
   "execution_count": 1,
   "metadata": {},
   "outputs": [
    {
     "data": {
      "text/plain": [
       "[array([ 56312.125    , 123456.7890625])]"
      ]
     },
     "execution_count": 1,
     "metadata": {},
     "output_type": "execute_result"
    }
   ],
   "source": [
    "from datetime import datetime, timedelta\n",
    "import numpy as np\n",
    "from mikeio import Dfs0\n",
    "data = []\n",
    "d = np.zeros(2)\n",
    "d[0] = 56312.123456789\n",
    "d[1] = 123456.7890123456\n",
    "data.append(d)\n",
    "dfs = Dfs0()\n",
    "dfs.create(filename=\"simple.dfs0\",\n",
    "            data=data,\n",
    "            start_time=datetime(2017, 1, 1),\n",
    "            dt=60)\n",
    "\n",
    "ds = dfs.read(\"simple.dfs0\")\n",
    "ds.data"
   ]
  },
  {
   "cell_type": "markdown",
   "metadata": {},
   "source": [
    "# Specify double precision == np.float64"
   ]
  },
  {
   "cell_type": "code",
   "execution_count": 2,
   "metadata": {},
   "outputs": [
    {
     "data": {
      "text/plain": [
       "[array([ 56312.12345679, 123456.78901235])]"
      ]
     },
     "execution_count": 2,
     "metadata": {},
     "output_type": "execute_result"
    }
   ],
   "source": [
    "from datetime import datetime, timedelta\n",
    "import numpy as np\n",
    "from mikeio import Dfs0\n",
    "data = []\n",
    "d = np.zeros(2)\n",
    "d[0] = 56312.123456789\n",
    "d[1] = 123456.7890123456\n",
    "data.append(d)\n",
    "dfs = Dfs0()\n",
    "dfs.create(filename=\"simple.dfs0\",\n",
    "            data=data,\n",
    "            start_time=datetime(2017, 1, 1),\n",
    "            dt=60,dtype=np.float64)\n",
    "ds = dfs.read(\"simple.dfs0\")\n",
    "ds.data"
   ]
  },
  {
   "cell_type": "markdown",
   "metadata": {},
   "source": [
    "# Or explicitly single precision"
   ]
  },
  {
   "cell_type": "code",
   "execution_count": 3,
   "metadata": {},
   "outputs": [
    {
     "data": {
      "text/plain": [
       "[array([ 56312.125    , 123456.7890625])]"
      ]
     },
     "execution_count": 3,
     "metadata": {},
     "output_type": "execute_result"
    }
   ],
   "source": [
    "from datetime import datetime, timedelta\n",
    "import numpy as np\n",
    "from mikeio import Dfs0\n",
    "data = []\n",
    "d = np.zeros(2)\n",
    "d[0] = 56312.123456789\n",
    "d[1] = 123456.7890123456\n",
    "data.append(d)\n",
    "dfs = Dfs0()\n",
    "dfs.create(filename=\"simple.dfs0\",\n",
    "            data=data,\n",
    "            start_time=datetime(2017, 1, 1),\n",
    "            dt=60,dtype=np.float32)\n",
    "\n",
    "ds = dfs.read(\"simple.dfs0\")\n",
    "ds.data"
   ]
  }
 ],
 "metadata": {
  "kernelspec": {
   "display_name": "Python 3",
   "language": "python",
   "name": "python3"
  },
  "language_info": {
   "codemirror_mode": {
    "name": "ipython",
    "version": 3
   },
   "file_extension": ".py",
   "mimetype": "text/x-python",
   "name": "python",
   "nbconvert_exporter": "python",
   "pygments_lexer": "ipython3",
   "version": "3.7.4"
  }
 },
 "nbformat": 4,
 "nbformat_minor": 4
}
