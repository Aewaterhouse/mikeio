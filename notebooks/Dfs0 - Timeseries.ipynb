{
 "cells": [
  {
   "cell_type": "code",
   "execution_count": 1,
   "metadata": {},
   "outputs": [],
   "source": [
    "import numpy as np\n",
    "from mikeio.dfs0 import Dfs0\n",
    "from mikeio.eum import TimeStep\n",
    "from datetime import datetime, timedelta"
   ]
  },
  {
   "cell_type": "markdown",
   "metadata": {},
   "source": [
    "# Create a timeseries"
   ]
  },
  {
   "cell_type": "code",
   "execution_count": 2,
   "metadata": {},
   "outputs": [],
   "source": [
    "data = []\n",
    "\n",
    "nt = 10\n",
    "d1 = np.zeros(nt)\n",
    "data.append(d1)\n",
    "d2 = np.ones(nt)\n",
    "data.append(d2)\n",
    "\n",
    "names = [\"Zeros\", \"Ones\"]\n",
    "\n",
    "dfs = Dfs0()\n",
    "\n",
    "\n",
    "dfs.create(filename=\"test.dfs0\", data=data, names=names, title=\"Zeros and ones\",\n",
    "           start_time=datetime(2000,1,1),\n",
    "           timeseries_unit=TimeStep.DAY, dt=7)"
   ]
  },
  {
   "cell_type": "markdown",
   "metadata": {},
   "source": [
    "## From comma separated file"
   ]
  },
  {
   "cell_type": "code",
   "execution_count": 3,
   "metadata": {},
   "outputs": [
    {
     "data": {
      "text/html": [
       "<div>\n",
       "<style scoped>\n",
       "    .dataframe tbody tr th:only-of-type {\n",
       "        vertical-align: middle;\n",
       "    }\n",
       "\n",
       "    .dataframe tbody tr th {\n",
       "        vertical-align: top;\n",
       "    }\n",
       "\n",
       "    .dataframe thead th {\n",
       "        text-align: right;\n",
       "    }\n",
       "</style>\n",
       "<table border=\"1\" class=\"dataframe\">\n",
       "  <thead>\n",
       "    <tr style=\"text-align: right;\">\n",
       "      <th></th>\n",
       "      <th>Decimal Date</th>\n",
       "      <th>Average</th>\n",
       "      <th>Interpolated</th>\n",
       "      <th>Trend</th>\n",
       "      <th>Number of Days</th>\n",
       "    </tr>\n",
       "    <tr>\n",
       "      <th>Date</th>\n",
       "      <th></th>\n",
       "      <th></th>\n",
       "      <th></th>\n",
       "      <th></th>\n",
       "      <th></th>\n",
       "    </tr>\n",
       "  </thead>\n",
       "  <tbody>\n",
       "    <tr>\n",
       "      <th>1958-03-01</th>\n",
       "      <td>1958.208</td>\n",
       "      <td>315.71</td>\n",
       "      <td>315.71</td>\n",
       "      <td>314.62</td>\n",
       "      <td>-1</td>\n",
       "    </tr>\n",
       "    <tr>\n",
       "      <th>1958-04-01</th>\n",
       "      <td>1958.292</td>\n",
       "      <td>317.45</td>\n",
       "      <td>317.45</td>\n",
       "      <td>315.29</td>\n",
       "      <td>-1</td>\n",
       "    </tr>\n",
       "    <tr>\n",
       "      <th>1958-05-01</th>\n",
       "      <td>1958.375</td>\n",
       "      <td>317.50</td>\n",
       "      <td>317.50</td>\n",
       "      <td>314.71</td>\n",
       "      <td>-1</td>\n",
       "    </tr>\n",
       "    <tr>\n",
       "      <th>1958-06-01</th>\n",
       "      <td>1958.458</td>\n",
       "      <td>NaN</td>\n",
       "      <td>317.10</td>\n",
       "      <td>314.85</td>\n",
       "      <td>-1</td>\n",
       "    </tr>\n",
       "    <tr>\n",
       "      <th>1958-07-01</th>\n",
       "      <td>1958.542</td>\n",
       "      <td>315.86</td>\n",
       "      <td>315.86</td>\n",
       "      <td>314.98</td>\n",
       "      <td>-1</td>\n",
       "    </tr>\n",
       "  </tbody>\n",
       "</table>\n",
       "</div>"
      ],
      "text/plain": [
       "            Decimal Date  Average  Interpolated   Trend  Number of Days\n",
       "Date                                                                   \n",
       "1958-03-01      1958.208   315.71        315.71  314.62              -1\n",
       "1958-04-01      1958.292   317.45        317.45  315.29              -1\n",
       "1958-05-01      1958.375   317.50        317.50  314.71              -1\n",
       "1958-06-01      1958.458      NaN        317.10  314.85              -1\n",
       "1958-07-01      1958.542   315.86        315.86  314.98              -1"
      ]
     },
     "execution_count": 3,
     "metadata": {},
     "output_type": "execute_result"
    }
   ],
   "source": [
    "import pandas as pd\n",
    "\n",
    "df = pd.read_csv(\"../tests/testdata/co2-mm-mlo.csv\", parse_dates=True,index_col='Date',na_values=-99.99)\n",
    "df.head()"
   ]
  },
  {
   "cell_type": "markdown",
   "metadata": {},
   "source": [
    "Remove missing values"
   ]
  },
  {
   "cell_type": "code",
   "execution_count": 4,
   "metadata": {},
   "outputs": [],
   "source": [
    "df = df.dropna()"
   ]
  },
  {
   "cell_type": "code",
   "execution_count": 5,
   "metadata": {},
   "outputs": [],
   "source": [
    "df = df[[\"Average\"]]\n",
    "df.columns= [\"Concentration\"]"
   ]
  },
  {
   "cell_type": "code",
   "execution_count": 6,
   "metadata": {},
   "outputs": [
    {
     "data": {
      "text/plain": [
       "<matplotlib.axes._subplots.AxesSubplot at 0x14fad3df0c8>"
      ]
     },
     "execution_count": 6,
     "metadata": {},
     "output_type": "execute_result"
    },
    {
     "data": {
      "image/png": "[encoded data removed]",
      "text/plain": [
       "<Figure size 432x288 with 1 Axes>"
      ]
     },
     "metadata": {
      "needs_background": "light"
     },
     "output_type": "display_data"
    }
   ],
   "source": [
    "df.plot()"
   ]
  },
  {
   "cell_type": "markdown",
   "metadata": {},
   "source": [
    "Use the dates provided in the dataset to create a non-equidistant dfs0."
   ]
  },
  {
   "cell_type": "code",
   "execution_count": 7,
   "metadata": {},
   "outputs": [],
   "source": [
    "dfs = Dfs0()\n",
    " \n",
    "data = []\n",
    "data.append(df.values)\n",
    " \n",
    "dfs.create(filename=\"mauna_loa_co2.dfs0\",\n",
    "           data=data,\n",
    "           datetimes = df.index,\n",
    "           names= df.columns,\n",
    "           title=\"Mauna loa\"\n",
    ")"
   ]
  },
  {
   "cell_type": "markdown",
   "metadata": {},
   "source": [
    "Interpolate to hourly values"
   ]
  },
  {
   "cell_type": "code",
   "execution_count": 8,
   "metadata": {},
   "outputs": [],
   "source": [
    "df_h = df.resample('h').interpolate()"
   ]
  },
  {
   "cell_type": "code",
   "execution_count": 9,
   "metadata": {},
   "outputs": [
    {
     "data": {
      "text/plain": [
       "datetime.datetime(1958, 3, 1, 0, 0)"
      ]
     },
     "execution_count": 9,
     "metadata": {},
     "output_type": "execute_result"
    }
   ],
   "source": [
    "df_h.index[0].to_pydatetime()"
   ]
  },
  {
   "cell_type": "code",
   "execution_count": 10,
   "metadata": {},
   "outputs": [],
   "source": [
    "dfs = Dfs0()\n",
    " \n",
    "data = []\n",
    "data.append(df_h.values)\n",
    " \n",
    "dfs.create(filename=\"mauna_loa_co2_eq_1h.dfs0\",\n",
    "           data=data,\n",
    "           start_time = df_h.index[0].to_pydatetime(),\n",
    "           dt=3600,\n",
    "           names= df_h.columns,\n",
    "           title=\"Mauna loa\"\n",
    ")"
   ]
  },
  {
   "cell_type": "markdown",
   "metadata": {},
   "source": [
    "# Read a timeseries"
   ]
  },
  {
   "cell_type": "code",
   "execution_count": 11,
   "metadata": {},
   "outputs": [],
   "source": [
    "res = dfs.read(\"test.dfs0\")"
   ]
  },
  {
   "cell_type": "code",
   "execution_count": 12,
   "metadata": {},
   "outputs": [
    {
     "data": {
      "text/plain": [
       "['Zeros', 'Ones']"
      ]
     },
     "execution_count": 12,
     "metadata": {},
     "output_type": "execute_result"
    }
   ],
   "source": [
    "res.names"
   ]
  },
  {
   "cell_type": "code",
   "execution_count": 13,
   "metadata": {},
   "outputs": [
    {
     "data": {
      "text/plain": [
       "[datetime.datetime(2000, 1, 1, 0, 0),\n",
       " datetime.datetime(2000, 1, 8, 0, 0),\n",
       " datetime.datetime(2000, 1, 15, 0, 0),\n",
       " datetime.datetime(2000, 1, 22, 0, 0),\n",
       " datetime.datetime(2000, 1, 29, 0, 0),\n",
       " datetime.datetime(2000, 2, 5, 0, 0),\n",
       " datetime.datetime(2000, 2, 12, 0, 0),\n",
       " datetime.datetime(2000, 2, 19, 0, 0),\n",
       " datetime.datetime(2000, 2, 26, 0, 0),\n",
       " datetime.datetime(2000, 3, 4, 0, 0)]"
      ]
     },
     "execution_count": 13,
     "metadata": {},
     "output_type": "execute_result"
    }
   ],
   "source": [
    "res.time"
   ]
  },
  {
   "cell_type": "code",
   "execution_count": 14,
   "metadata": {},
   "outputs": [
    {
     "data": {
      "text/plain": [
       "[array([0., 0., 0., 0., 0., 0., 0., 0., 0., 0.]),\n",
       " array([1., 1., 1., 1., 1., 1., 1., 1., 1., 1.])]"
      ]
     },
     "execution_count": 14,
     "metadata": {},
     "output_type": "execute_result"
    }
   ],
   "source": [
    "res.data"
   ]
  },
  {
   "cell_type": "markdown",
   "metadata": {},
   "source": [
    "## Or as a Pandas dataframe"
   ]
  },
  {
   "cell_type": "code",
   "execution_count": 15,
   "metadata": {},
   "outputs": [
    {
     "data": {
      "text/html": [
       "<div>\n",
       "<style scoped>\n",
       "    .dataframe tbody tr th:only-of-type {\n",
       "        vertical-align: middle;\n",
       "    }\n",
       "\n",
       "    .dataframe tbody tr th {\n",
       "        vertical-align: top;\n",
       "    }\n",
       "\n",
       "    .dataframe thead th {\n",
       "        text-align: right;\n",
       "    }\n",
       "</style>\n",
       "<table border=\"1\" class=\"dataframe\">\n",
       "  <thead>\n",
       "    <tr style=\"text-align: right;\">\n",
       "      <th></th>\n",
       "      <th>Zeros</th>\n",
       "      <th>Ones</th>\n",
       "    </tr>\n",
       "  </thead>\n",
       "  <tbody>\n",
       "    <tr>\n",
       "      <th>2000-01-01</th>\n",
       "      <td>0.0</td>\n",
       "      <td>1.0</td>\n",
       "    </tr>\n",
       "    <tr>\n",
       "      <th>2000-01-08</th>\n",
       "      <td>0.0</td>\n",
       "      <td>1.0</td>\n",
       "    </tr>\n",
       "    <tr>\n",
       "      <th>2000-01-15</th>\n",
       "      <td>0.0</td>\n",
       "      <td>1.0</td>\n",
       "    </tr>\n",
       "    <tr>\n",
       "      <th>2000-01-22</th>\n",
       "      <td>0.0</td>\n",
       "      <td>1.0</td>\n",
       "    </tr>\n",
       "    <tr>\n",
       "      <th>2000-01-29</th>\n",
       "      <td>0.0</td>\n",
       "      <td>1.0</td>\n",
       "    </tr>\n",
       "  </tbody>\n",
       "</table>\n",
       "</div>"
      ],
      "text/plain": [
       "            Zeros  Ones\n",
       "2000-01-01    0.0   1.0\n",
       "2000-01-08    0.0   1.0\n",
       "2000-01-15    0.0   1.0\n",
       "2000-01-22    0.0   1.0\n",
       "2000-01-29    0.0   1.0"
      ]
     },
     "execution_count": 15,
     "metadata": {},
     "output_type": "execute_result"
    }
   ],
   "source": [
    "df = dfs.read_to_pandas(\"test.dfs0\")\n",
    "df.head()"
   ]
  },
  {
   "cell_type": "markdown",
   "metadata": {},
   "source": [
    "## Create a timeseries with non-equidistant data"
   ]
  },
  {
   "cell_type": "code",
   "execution_count": 16,
   "metadata": {},
   "outputs": [],
   "source": [
    "data = []\n",
    "\n",
    "d1 = np.random.uniform(low=0.0, high=5.0, size=5)\n",
    "data.append(d1)\n",
    "\n",
    "datetimes = [\n",
    "    datetime(2000, 1, 1, 0, 0),\n",
    "    datetime(2000, 1, 8, 0, 0),\n",
    "    datetime(2000, 1, 10, 0, 0),\n",
    "    datetime(2000, 2, 22, 0, 0),\n",
    "    datetime(2000, 11, 29, 0, 0)\n",
    "]\n",
    "\n",
    "dfs = Dfs0()\n",
    "\n",
    "\n",
    "dfs.create(filename=\"neq.dfs0\",\n",
    "           datetimes=datetimes, \n",
    "           data=data,\n",
    "           title=\"Non equidistant\"\n",
    ")"
   ]
  },
  {
   "cell_type": "markdown",
   "metadata": {},
   "source": [
    "## Create a timeseries with accumulated timestep"
   ]
  },
  {
   "cell_type": "markdown",
   "metadata": {},
   "source": [
    "## Find correct eum units"
   ]
  },
  {
   "cell_type": "code",
   "execution_count": 17,
   "metadata": {},
   "outputs": [
    {
     "data": {
      "text/plain": [
       "{100190: 'Correction of precipitation',\n",
       " 100192: 'Precipitation correction',\n",
       " 100232: 'Precipitation',\n",
       " 100233: 'Specific Precipitation',\n",
       " 100431: 'Precipitation Rate'}"
      ]
     },
     "execution_count": 17,
     "metadata": {},
     "output_type": "execute_result"
    }
   ],
   "source": [
    "from mikeio.dfs_util import type_list, unit_list\n",
    "\n",
    "\n",
    "type_list(\"Prec\")"
   ]
  },
  {
   "cell_type": "code",
   "execution_count": 18,
   "metadata": {},
   "outputs": [
    {
     "data": {
      "text/plain": [
       "{2004: 'mm/day',\n",
       " 2001: 'mm/hour',\n",
       " 2018: 'cm/hour',\n",
       " 2000: 'meter/sec',\n",
       " 2006: 'meter/day',\n",
       " 2009: 'feet/day',\n",
       " 2016: 'inch/hour',\n",
       " 2014: 'inch/min',\n",
       " 4802: 'inch/day',\n",
       " 2040: 'mm/year'}"
      ]
     },
     "execution_count": 18,
     "metadata": {},
     "output_type": "execute_result"
    }
   ],
   "source": [
    "unit_list(100431)"
   ]
  },
  {
   "cell_type": "code",
   "execution_count": 19,
   "metadata": {},
   "outputs": [],
   "source": [
    "from DHI.Generic.MikeZero.DFS import DataValueType\n",
    "n= 1000\n",
    "d1 = np.random.random([n])\n",
    "d2 = np.random.random([n])\n",
    "data = []\n",
    "data.append(d1)\n",
    "data.append(d2)\n",
    "start_time = datetime(2017, 1, 1)\n",
    "time_vector = []\n",
    "t = start_time\n",
    "random_dt = np.random.choice([1.0,2.0],size=n)\n",
    "for i in range(n):\n",
    "    t = t + timedelta(hours=random_dt[i])\n",
    "    time_vector.append(t)\n",
    "title = 'Hello Test'\n",
    "names = ['Water level', 'Precipitation']\n",
    "variable_type = [100000, 100431]\n",
    "unit = [1000, 2004]\n",
    "data_value_type = [DataValueType.Instantaneous, DataValueType.Accumulated]\n",
    "\n",
    "dfs = Dfs0()\n",
    "dfs.create(filename='accumulated.dfs0', data=data,\n",
    "        datetimes=time_vector,\n",
    "        names=names, title=title,\n",
    "        variable_type=variable_type, unit=unit,\n",
    "        data_value_type=data_value_type)"
   ]
  },
  {
   "cell_type": "markdown",
   "metadata": {},
   "source": [
    "# Modify an existing timeseries\n",
    "\n",
    "The `write` method allows to modify the data without the need of specifying names, units etc. If you need to add variables, rename, change units, you must use `create` instead."
   ]
  },
  {
   "cell_type": "code",
   "execution_count": 20,
   "metadata": {},
   "outputs": [
    {
     "data": {
      "text/plain": [
       "DataSet(data, time, names)\n",
       "Number of items: 2\n",
       "Shape: (10,)\n",
       "2000-01-01 00:00:00 - 2000-03-04 00:00:00"
      ]
     },
     "execution_count": 20,
     "metadata": {},
     "output_type": "execute_result"
    }
   ],
   "source": [
    "res = dfs.read(\"test.dfs0\")\n",
    "res"
   ]
  },
  {
   "cell_type": "code",
   "execution_count": 21,
   "metadata": {},
   "outputs": [
    {
     "data": {
      "text/plain": [
       "array([1., 1., 1., 1., 1., 1., 1., 1., 1., 1.])"
      ]
     },
     "execution_count": 21,
     "metadata": {},
     "output_type": "execute_result"
    }
   ],
   "source": [
    "res['Ones']"
   ]
  },
  {
   "cell_type": "markdown",
   "metadata": {},
   "source": [
    "Modify the data in some way..."
   ]
  },
  {
   "cell_type": "code",
   "execution_count": 22,
   "metadata": {},
   "outputs": [
    {
     "data": {
      "text/plain": [
       "array([3.14159265, 3.14159265, 3.14159265, 3.14159265, 3.14159265,\n",
       "       3.14159265, 3.14159265, 3.14159265, 3.14159265, 3.14159265])"
      ]
     },
     "execution_count": 22,
     "metadata": {},
     "output_type": "execute_result"
    }
   ],
   "source": [
    "data = res.data\n",
    "data[1] = data[1]*np.pi\n",
    "data[1]"
   ]
  },
  {
   "cell_type": "code",
   "execution_count": 23,
   "metadata": {},
   "outputs": [],
   "source": [
    "from shutil import copyfile\n",
    "copyfile(\"test.dfs0\",\"modified.dfs0\")\n",
    "dfs.write(\"modified.dfs0\", data)"
   ]
  },
  {
   "cell_type": "code",
   "execution_count": 24,
   "metadata": {},
   "outputs": [
    {
     "data": {
      "text/plain": [
       "array([3.14159274, 3.14159274, 3.14159274, 3.14159274, 3.14159274,\n",
       "       3.14159274, 3.14159274, 3.14159274, 3.14159274, 3.14159274])"
      ]
     },
     "execution_count": 24,
     "metadata": {},
     "output_type": "execute_result"
    }
   ],
   "source": [
    "res = dfs.read(\"modified.dfs0\")\n",
    "res['Ones']"
   ]
  },
  {
   "cell_type": "markdown",
   "metadata": {},
   "source": [
    "The second item is modified."
   ]
  },
  {
   "cell_type": "code",
   "execution_count": 25,
   "metadata": {},
   "outputs": [
    {
     "data": {
      "text/plain": [
       "array([0., 0., 0., 0., 0., 0., 0., 0., 0., 0.])"
      ]
     },
     "execution_count": 25,
     "metadata": {},
     "output_type": "execute_result"
    }
   ],
   "source": [
    "res['Zeros']"
   ]
  },
  {
   "cell_type": "markdown",
   "metadata": {},
   "source": [
    "## Convert units\n",
    "\n",
    "Read a file with waterlevel i meters."
   ]
  },
  {
   "cell_type": "code",
   "execution_count": 26,
   "metadata": {},
   "outputs": [
    {
     "data": {
      "text/plain": [
       "'m'"
      ]
     },
     "execution_count": 26,
     "metadata": {},
     "output_type": "execute_result"
    }
   ],
   "source": [
    "dfs = Dfs0()\n",
    "filename = r\"C:\\Program Files (x86)\\DHI\\2020\\MIKE Zero\\Examples\\MIKE_21\\FlowModel_FM\\HD\\Oresund\\Data\\1993\\Boundary_Conditions\\waterlevel_viken.dfs0\"\n",
    "\n",
    "ds = dfs.read(filename)\n",
    "dfs._dfs.ItemInfo[0].Quantity.UnitAbbreviation"
   ]
  },
  {
   "cell_type": "code",
   "execution_count": 27,
   "metadata": {},
   "outputs": [
    {
     "data": {
      "image/png": "[encoded data removed]",
      "text/plain": [
       "<Figure size 432x288 with 1 Axes>"
      ]
     },
     "metadata": {
      "needs_background": "light"
     },
     "output_type": "display_data"
    }
   ],
   "source": [
    "import matplotlib.pyplot as plt\n",
    "plt.plot(ds.time,ds.data[0])\n",
    "plt.ylabel(ds.names[0]);"
   ]
  },
  {
   "cell_type": "markdown",
   "metadata": {},
   "source": [
    "The aim is to convert this timeseries to feet (1m = 3.3 ft)"
   ]
  },
  {
   "cell_type": "code",
   "execution_count": 28,
   "metadata": {},
   "outputs": [],
   "source": [
    "data = ds.data\n",
    "data[0] = data[0]*3.3"
   ]
  },
  {
   "cell_type": "code",
   "execution_count": 29,
   "metadata": {},
   "outputs": [
    {
     "data": {
      "text/plain": [
       "{100000: 'Water Level', 100307: 'Water level change'}"
      ]
     },
     "execution_count": 29,
     "metadata": {},
     "output_type": "execute_result"
    }
   ],
   "source": [
    "type_list(\"Water level\")"
   ]
  },
  {
   "cell_type": "code",
   "execution_count": 30,
   "metadata": {},
   "outputs": [
    {
     "data": {
      "text/plain": [
       "{1000: 'meter',\n",
       " 1001: 'kilometer',\n",
       " 1007: 'centimeter',\n",
       " 1002: 'millimeter',\n",
       " 1003: 'feet',\n",
       " 1014: 'feet US',\n",
       " 1004: 'inch',\n",
       " 1013: 'inch US',\n",
       " 1005: 'mile',\n",
       " 1016: 'mile US',\n",
       " 1006: 'yard',\n",
       " 1015: 'yard US'}"
      ]
     },
     "execution_count": 30,
     "metadata": {},
     "output_type": "execute_result"
    }
   ],
   "source": [
    "unit_list(100000)"
   ]
  },
  {
   "cell_type": "code",
   "execution_count": 31,
   "metadata": {},
   "outputs": [],
   "source": [
    "dfs = Dfs0()\n",
    "dfs.create(filename='wl_feet.dfs0', data=ds.data,\n",
    "           start_time=ds.time[0],\n",
    "            dt = 1800,\n",
    "            names=[\"Viken\"],\n",
    "            title=\"Water level\",\n",
    "            variable_type=[100000], unit=[1003])"
   ]
  },
  {
   "cell_type": "markdown",
   "metadata": {},
   "source": [
    "![WL](../images/wl_feet.png)"
   ]
  },
  {
   "cell_type": "markdown",
   "metadata": {},
   "source": [
    "## Clean up"
   ]
  },
  {
   "cell_type": "code",
   "execution_count": 32,
   "metadata": {},
   "outputs": [],
   "source": [
    "import os\n",
    "\n",
    "os.remove(\"test.dfs0\")\n",
    "os.remove(\"modified.dfs0\")\n",
    "os.remove(\"neq.dfs0\")\n",
    "os.remove(\"accumulated.dfs0\")\n",
    "os.remove(\"wl_feet.dfs0\")\n",
    "os.remove(\"mauna_loa_co2_eq_1h.dfs0\")\n",
    "os.remove(\"mauna_loa_co2.dfs0\")"
   ]
  }
 ],
 "metadata": {
  "kernelspec": {
   "display_name": "Python 3",
   "language": "python",
   "name": "python3"
  },
  "language_info": {
   "codemirror_mode": {
    "name": "ipython",
    "version": 3
   },
   "file_extension": ".py",
   "mimetype": "text/x-python",
   "name": "python",
   "nbconvert_exporter": "python",
   "pygments_lexer": "ipython3",
   "version": "3.7.4"
  }
 },
 "nbformat": 4,
 "nbformat_minor": 4
}
