{
 "cells": [
  {
   "cell_type": "code",
   "execution_count": 1,
   "metadata": {},
   "outputs": [],
   "source": [
    "import numpy as np\n",
    "from mikeio.dfs0 import Dfs0\n",
    "from mikeio.eum import TimeStep, ItemInfo, Item, Unit\n",
    "from datetime import datetime, timedelta"
   ]
  },
  {
   "cell_type": "markdown",
   "metadata": {},
   "source": [
    "# Create a timeseries"
   ]
  },
  {
   "cell_type": "code",
   "execution_count": 2,
   "metadata": {},
   "outputs": [],
   "source": [
    "data = []\n",
    "\n",
    "nt = 10\n",
    "d1 = np.zeros(nt)\n",
    "data.append(d1)\n",
    "d2 = np.ones(nt)\n",
    "data.append(d2)\n",
    "\n",
    "names = [\"Zeros\", \"Ones\"]\n",
    "\n",
    "dfs = Dfs0()\n",
    "\n",
    "items = [ItemInfo(\"Zeros\", Item.Water_Level, Unit.meter), \n",
    "         ItemInfo(\"Ones\", Item.Discharge, Unit.meter_pow_3_per_sec)]\n",
    "\n",
    "\n",
    "dfs.create(filename=\"test.dfs0\", data=data, items=items, title=\"Zeros and ones\",\n",
    "           start_time=datetime(2000,1,1),\n",
    "           timeseries_unit=TimeStep.DAY, dt=7)"
   ]
  },
  {
   "cell_type": "markdown",
   "metadata": {},
   "source": [
    "# Read a timeseries"
   ]
  },
  {
   "cell_type": "code",
   "execution_count": 3,
   "metadata": {},
   "outputs": [],
   "source": [
    "res = dfs.read(\"test.dfs0\")"
   ]
  },
  {
   "cell_type": "code",
   "execution_count": 4,
   "metadata": {},
   "outputs": [
    {
     "data": {
      "text/plain": [
       "[Zeros <Water Level> (meter), Ones <Discharge> (meter pow 3 per sec)]"
      ]
     },
     "execution_count": 4,
     "metadata": {},
     "output_type": "execute_result"
    }
   ],
   "source": [
    "res.items"
   ]
  },
  {
   "cell_type": "code",
   "execution_count": 5,
   "metadata": {},
   "outputs": [
    {
     "data": {
      "text/plain": [
       "meter"
      ]
     },
     "execution_count": 5,
     "metadata": {},
     "output_type": "execute_result"
    }
   ],
   "source": [
    "res.items[0].unit"
   ]
  },
  {
   "cell_type": "code",
   "execution_count": 6,
   "metadata": {},
   "outputs": [
    {
     "data": {
      "text/plain": [
       "[datetime.datetime(2000, 1, 1, 0, 0),\n",
       " datetime.datetime(2000, 1, 8, 0, 0),\n",
       " datetime.datetime(2000, 1, 15, 0, 0),\n",
       " datetime.datetime(2000, 1, 22, 0, 0),\n",
       " datetime.datetime(2000, 1, 29, 0, 0),\n",
       " datetime.datetime(2000, 2, 5, 0, 0),\n",
       " datetime.datetime(2000, 2, 12, 0, 0),\n",
       " datetime.datetime(2000, 2, 19, 0, 0),\n",
       " datetime.datetime(2000, 2, 26, 0, 0),\n",
       " datetime.datetime(2000, 3, 4, 0, 0)]"
      ]
     },
     "execution_count": 6,
     "metadata": {},
     "output_type": "execute_result"
    }
   ],
   "source": [
    "res.time"
   ]
  },
  {
   "cell_type": "code",
   "execution_count": 7,
   "metadata": {},
   "outputs": [
    {
     "data": {
      "text/plain": [
       "[array([0., 0., 0., 0., 0., 0., 0., 0., 0., 0.]),\n",
       " array([1., 1., 1., 1., 1., 1., 1., 1., 1., 1.])]"
      ]
     },
     "execution_count": 7,
     "metadata": {},
     "output_type": "execute_result"
    }
   ],
   "source": [
    "res.data"
   ]
  },
  {
   "cell_type": "markdown",
   "metadata": {},
   "source": [
    "## Or as a Pandas dataframe"
   ]
  },
  {
   "cell_type": "code",
   "execution_count": 8,
   "metadata": {},
   "outputs": [
    {
     "data": {
      "text/html": [
       "<div>\n",
       "<style scoped>\n",
       "    .dataframe tbody tr th:only-of-type {\n",
       "        vertical-align: middle;\n",
       "    }\n",
       "\n",
       "    .dataframe tbody tr th {\n",
       "        vertical-align: top;\n",
       "    }\n",
       "\n",
       "    .dataframe thead th {\n",
       "        text-align: right;\n",
       "    }\n",
       "</style>\n",
       "<table border=\"1\" class=\"dataframe\">\n",
       "  <thead>\n",
       "    <tr style=\"text-align: right;\">\n",
       "      <th></th>\n",
       "      <th>Zeros &lt;Water Level&gt; (meter)</th>\n",
       "      <th>Ones &lt;Discharge&gt; (meter pow 3 per sec)</th>\n",
       "    </tr>\n",
       "  </thead>\n",
       "  <tbody>\n",
       "    <tr>\n",
       "      <th>2000-01-01</th>\n",
       "      <td>0.0</td>\n",
       "      <td>1.0</td>\n",
       "    </tr>\n",
       "    <tr>\n",
       "      <th>2000-01-08</th>\n",
       "      <td>0.0</td>\n",
       "      <td>1.0</td>\n",
       "    </tr>\n",
       "    <tr>\n",
       "      <th>2000-01-15</th>\n",
       "      <td>0.0</td>\n",
       "      <td>1.0</td>\n",
       "    </tr>\n",
       "    <tr>\n",
       "      <th>2000-01-22</th>\n",
       "      <td>0.0</td>\n",
       "      <td>1.0</td>\n",
       "    </tr>\n",
       "    <tr>\n",
       "      <th>2000-01-29</th>\n",
       "      <td>0.0</td>\n",
       "      <td>1.0</td>\n",
       "    </tr>\n",
       "  </tbody>\n",
       "</table>\n",
       "</div>"
      ],
      "text/plain": [
       "            Zeros <Water Level> (meter)  \\\n",
       "2000-01-01                          0.0   \n",
       "2000-01-08                          0.0   \n",
       "2000-01-15                          0.0   \n",
       "2000-01-22                          0.0   \n",
       "2000-01-29                          0.0   \n",
       "\n",
       "            Ones <Discharge> (meter pow 3 per sec)  \n",
       "2000-01-01                                     1.0  \n",
       "2000-01-08                                     1.0  \n",
       "2000-01-15                                     1.0  \n",
       "2000-01-22                                     1.0  \n",
       "2000-01-29                                     1.0  "
      ]
     },
     "execution_count": 8,
     "metadata": {},
     "output_type": "execute_result"
    }
   ],
   "source": [
    "df = dfs.read_to_pandas(\"test.dfs0\")\n",
    "df.head()"
   ]
  },
  {
   "cell_type": "markdown",
   "metadata": {},
   "source": [
    "## Create a timeseries with non-equidistant data"
   ]
  },
  {
   "cell_type": "code",
   "execution_count": 9,
   "metadata": {},
   "outputs": [],
   "source": [
    "data = []\n",
    "\n",
    "d1 = np.random.uniform(low=0.0, high=5.0, size=5)\n",
    "data.append(d1)\n",
    "\n",
    "datetimes = [\n",
    "    datetime(2000, 1, 1, 0, 0),\n",
    "    datetime(2000, 1, 8, 0, 0),\n",
    "    datetime(2000, 1, 10, 0, 0),\n",
    "    datetime(2000, 2, 22, 0, 0),\n",
    "    datetime(2000, 11, 29, 0, 0)\n",
    "]\n",
    "\n",
    "dfs = Dfs0()\n",
    "\n",
    "\n",
    "dfs.create(filename=\"neq.dfs0\",\n",
    "           datetimes=datetimes, \n",
    "           data=data,\n",
    "           title=\"Non equidistant\"\n",
    ")"
   ]
  },
  {
   "cell_type": "markdown",
   "metadata": {},
   "source": [
    "## Create a timeseries with accumulated timestep"
   ]
  },
  {
   "cell_type": "code",
   "execution_count": 10,
   "metadata": {},
   "outputs": [
    {
     "data": {
      "text/plain": [
       "[mm per day,\n",
       " mm per hour,\n",
       " cm per hour,\n",
       " meter per sec,\n",
       " meter per day,\n",
       " feet per day,\n",
       " inch per hour,\n",
       " inch per min,\n",
       " inch per day,\n",
       " mm per year]"
      ]
     },
     "execution_count": 10,
     "metadata": {},
     "output_type": "execute_result"
    }
   ],
   "source": [
    "Item.Precipitation_Rate.units"
   ]
  },
  {
   "cell_type": "code",
   "execution_count": 11,
   "metadata": {},
   "outputs": [],
   "source": [
    "from DHI.Generic.MikeZero.DFS import DataValueType\n",
    "n= 1000\n",
    "d1 = np.random.random([n])\n",
    "d2 = np.random.random([n])\n",
    "data = []\n",
    "data.append(d1)\n",
    "data.append(d2)\n",
    "start_time = datetime(2017, 1, 1)\n",
    "time_vector = []\n",
    "t = start_time\n",
    "random_dt = np.random.choice([1.0,2.0],size=n)\n",
    "for i in range(n):\n",
    "    t = t + timedelta(hours=random_dt[i])\n",
    "    time_vector.append(t)\n",
    "title = 'Hello Test'\n",
    "names = ['Water level', 'Precipitation']\n",
    "variable_type = [100000, 100431]\n",
    "unit = [1000, 2004]\n",
    "\n",
    "items = [ItemInfo(\"Water level\",Item.Water_Level, Unit.meter),\n",
    "        ItemInfo(\"Precipitation\", Item.Precipitation_Rate,Unit.mm_per_day)]\n",
    "\n",
    "data_value_type = [DataValueType.Instantaneous, DataValueType.Accumulated]\n",
    "\n",
    "dfs = Dfs0()\n",
    "dfs.create(filename='accumulated.dfs0', data=data,\n",
    "        datetimes=time_vector,\n",
    "        items=items, title=title,\n",
    "        data_value_type=data_value_type)"
   ]
  },
  {
   "cell_type": "markdown",
   "metadata": {},
   "source": [
    "# Modify an existing timeseries\n",
    "\n",
    "The `write` method allows to modify the data without the need of specifying names, units etc. If you need to add variables, rename, change units, you must use `create` instead."
   ]
  },
  {
   "cell_type": "code",
   "execution_count": 12,
   "metadata": {},
   "outputs": [
    {
     "data": {
      "text/plain": [
       "DataSet(data, time, items)\n",
       "Number of items: 2\n",
       "Shape: (10,)\n",
       "2000-01-01 00:00:00 - 2000-03-04 00:00:00"
      ]
     },
     "execution_count": 12,
     "metadata": {},
     "output_type": "execute_result"
    }
   ],
   "source": [
    "res = dfs.read(\"test.dfs0\")\n",
    "res"
   ]
  },
  {
   "cell_type": "code",
   "execution_count": 13,
   "metadata": {},
   "outputs": [
    {
     "data": {
      "text/plain": [
       "array([1., 1., 1., 1., 1., 1., 1., 1., 1., 1.])"
      ]
     },
     "execution_count": 13,
     "metadata": {},
     "output_type": "execute_result"
    }
   ],
   "source": [
    "res['Ones']"
   ]
  },
  {
   "cell_type": "markdown",
   "metadata": {},
   "source": [
    "Modify the data in some way..."
   ]
  },
  {
   "cell_type": "code",
   "execution_count": 14,
   "metadata": {},
   "outputs": [
    {
     "data": {
      "text/plain": [
       "array([3.14159265, 3.14159265, 3.14159265, 3.14159265, 3.14159265,\n",
       "       3.14159265, 3.14159265, 3.14159265, 3.14159265, 3.14159265])"
      ]
     },
     "execution_count": 14,
     "metadata": {},
     "output_type": "execute_result"
    }
   ],
   "source": [
    "data = res.data\n",
    "data[1] = data[1]*np.pi\n",
    "data[1]"
   ]
  },
  {
   "cell_type": "code",
   "execution_count": 15,
   "metadata": {},
   "outputs": [],
   "source": [
    "from shutil import copyfile\n",
    "copyfile(\"test.dfs0\",\"modified.dfs0\")\n",
    "dfs.write(\"modified.dfs0\", data)"
   ]
  },
  {
   "cell_type": "code",
   "execution_count": 16,
   "metadata": {},
   "outputs": [
    {
     "data": {
      "text/plain": [
       "array([3.14159274, 3.14159274, 3.14159274, 3.14159274, 3.14159274,\n",
       "       3.14159274, 3.14159274, 3.14159274, 3.14159274, 3.14159274])"
      ]
     },
     "execution_count": 16,
     "metadata": {},
     "output_type": "execute_result"
    }
   ],
   "source": [
    "res = dfs.read(\"modified.dfs0\")\n",
    "res['Ones']"
   ]
  },
  {
   "cell_type": "markdown",
   "metadata": {},
   "source": [
    "The second item is modified."
   ]
  },
  {
   "cell_type": "code",
   "execution_count": 17,
   "metadata": {},
   "outputs": [
    {
     "data": {
      "text/plain": [
       "array([0., 0., 0., 0., 0., 0., 0., 0., 0., 0.])"
      ]
     },
     "execution_count": 17,
     "metadata": {},
     "output_type": "execute_result"
    }
   ],
   "source": [
    "res['Zeros']"
   ]
  },
  {
   "cell_type": "markdown",
   "metadata": {},
   "source": [
    "## Convert units\n",
    "\n",
    "Read a file with waterlevel i meters."
   ]
  },
  {
   "cell_type": "code",
   "execution_count": 18,
   "metadata": {},
   "outputs": [
    {
     "data": {
      "text/plain": [
       "meter"
      ]
     },
     "execution_count": 18,
     "metadata": {},
     "output_type": "execute_result"
    }
   ],
   "source": [
    "dfs = Dfs0()\n",
    "filename = r\"C:\\Program Files (x86)\\DHI\\2020\\MIKE Zero\\Examples\\MIKE_21\\FlowModel_FM\\HD\\Oresund\\Data\\1993\\Boundary_Conditions\\waterlevel_viken.dfs0\"\n",
    "\n",
    "ds = dfs.read(filename)\n",
    "ds.items[0].unit"
   ]
  },
  {
   "cell_type": "code",
   "execution_count": 19,
   "metadata": {},
   "outputs": [
    {
     "name": "stderr",
     "output_type": "stream",
     "text": [
      "C:\\Users\\JAN\\AppData\\Local\\Continuum\\miniconda3\\lib\\site-packages\\pandas\\plotting\\_matplotlib\\converter.py:103: FutureWarning: Using an implicitly registered datetime converter for a matplotlib plotting method. The converter was registered by pandas on import. Future versions of pandas will require you to explicitly register matplotlib converters.\n",
      "\n",
      "To register the converters:\n",
      "\t>>> from pandas.plotting import register_matplotlib_converters\n",
      "\t>>> register_matplotlib_converters()\n",
      "  warnings.warn(msg, FutureWarning)\n"
     ]
    },
    {
     "data": {
      "image/png": "[encoded data removed]",
      "text/plain": [
       "<Figure size 432x288 with 1 Axes>"
      ]
     },
     "metadata": {
      "needs_background": "light"
     },
     "output_type": "display_data"
    }
   ],
   "source": [
    "import matplotlib.pyplot as plt\n",
    "plt.plot(ds.time,ds.data[0])\n",
    "plt.ylabel(ds.items[0]);"
   ]
  },
  {
   "cell_type": "markdown",
   "metadata": {},
   "source": [
    "The aim is to convert this timeseries to feet (1m = 3.3 ft)"
   ]
  },
  {
   "cell_type": "code",
   "execution_count": 20,
   "metadata": {},
   "outputs": [],
   "source": [
    "data = ds.data\n",
    "data[0] = data[0]*3.3"
   ]
  },
  {
   "cell_type": "code",
   "execution_count": 21,
   "metadata": {},
   "outputs": [
    {
     "data": {
      "text/plain": [
       "[meter,\n",
       " kilometer,\n",
       " centimeter,\n",
       " millimeter,\n",
       " feet,\n",
       " feet US,\n",
       " inch,\n",
       " inch US,\n",
       " mile,\n",
       " mile US,\n",
       " yard,\n",
       " yard US]"
      ]
     },
     "execution_count": 21,
     "metadata": {},
     "output_type": "execute_result"
    }
   ],
   "source": [
    "Item.Water_Level.units"
   ]
  },
  {
   "cell_type": "code",
   "execution_count": 22,
   "metadata": {},
   "outputs": [],
   "source": [
    "dfs = Dfs0()\n",
    "\n",
    "items = ds.items\n",
    "items[0].name = \"Viken\"\n",
    "items[0].unit = Unit.feet\n",
    "\n",
    "dfs.create(filename='wl_feet.dfs0', data=ds.data,\n",
    "           start_time=ds.time[0],\n",
    "            dt = 1800,\n",
    "            items=items)"
   ]
  },
  {
   "cell_type": "markdown",
   "metadata": {},
   "source": [
    "![WL](../images/wl_feet.png)"
   ]
  },
  {
   "cell_type": "markdown",
   "metadata": {},
   "source": [
    "## Clean up"
   ]
  },
  {
   "cell_type": "code",
   "execution_count": 23,
   "metadata": {},
   "outputs": [],
   "source": [
    "import os\n",
    "\n",
    "os.remove(\"test.dfs0\")\n",
    "os.remove(\"modified.dfs0\")\n",
    "os.remove(\"accumulated.dfs0\")\n",
    "os.remove(\"wl_feet.dfs0\")"
   ]
  }
 ],
 "metadata": {
  "kernelspec": {
   "display_name": "Python 3",
   "language": "python",
   "name": "python3"
  },
  "language_info": {
   "codemirror_mode": {
    "name": "ipython",
    "version": 3
   },
   "file_extension": ".py",
   "mimetype": "text/x-python",
   "name": "python",
   "nbconvert_exporter": "python",
   "pygments_lexer": "ipython3",
   "version": "3.7.4"
  }
 },
 "nbformat": 4,
 "nbformat_minor": 4
}
