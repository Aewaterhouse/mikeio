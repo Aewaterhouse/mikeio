{
 "cells": [
  {
   "cell_type": "code",
   "execution_count": 1,
   "metadata": {},
   "outputs": [],
   "source": [
    "import numpy as np\n",
    "from mikeio.dfs0 import dfs0\n",
    "from mikeio.eum import TimeStep\n",
    "from datetime import datetime, timedelta"
   ]
  },
  {
   "cell_type": "markdown",
   "metadata": {},
   "source": [
    "# Create a timeseries"
   ]
  },
  {
   "cell_type": "code",
   "execution_count": 2,
   "metadata": {},
   "outputs": [],
   "source": [
    "data = []\n",
    "\n",
    "nt = 10\n",
    "d1 = np.zeros(nt)\n",
    "data.append(d1)\n",
    "d2 = np.ones(nt)\n",
    "data.append(d2)\n",
    "\n",
    "names = [\"Zeros\", \"Ones\"]\n",
    "\n",
    "dfs = dfs0()\n",
    "\n",
    "\n",
    "dfs.create(filename=\"test.dfs0\", data=data, names=names, title=\"Zeros and ones\",\n",
    "           start_time=datetime(2000,1,1),\n",
    "           timeseries_unit=TimeStep.DAY, dt=7)"
   ]
  },
  {
   "cell_type": "markdown",
   "metadata": {},
   "source": [
    "# Read a timeseries"
   ]
  },
  {
   "cell_type": "code",
   "execution_count": 3,
   "metadata": {},
   "outputs": [],
   "source": [
    "res = dfs.read(\"test.dfs0\")"
   ]
  },
  {
   "cell_type": "code",
   "execution_count": 4,
   "metadata": {},
   "outputs": [
    {
     "data": {
      "text/plain": [
       "['Zeros', 'Ones']"
      ]
     },
     "execution_count": 4,
     "metadata": {},
     "output_type": "execute_result"
    }
   ],
   "source": [
    "res.names"
   ]
  },
  {
   "cell_type": "code",
   "execution_count": 5,
   "metadata": {},
   "outputs": [
    {
     "data": {
      "text/plain": [
       "[datetime.datetime(2000, 1, 1, 0, 0),\n",
       " datetime.datetime(2000, 1, 8, 0, 0),\n",
       " datetime.datetime(2000, 1, 15, 0, 0),\n",
       " datetime.datetime(2000, 1, 22, 0, 0),\n",
       " datetime.datetime(2000, 1, 29, 0, 0),\n",
       " datetime.datetime(2000, 2, 5, 0, 0),\n",
       " datetime.datetime(2000, 2, 12, 0, 0),\n",
       " datetime.datetime(2000, 2, 19, 0, 0),\n",
       " datetime.datetime(2000, 2, 26, 0, 0),\n",
       " datetime.datetime(2000, 3, 4, 0, 0)]"
      ]
     },
     "execution_count": 5,
     "metadata": {},
     "output_type": "execute_result"
    }
   ],
   "source": [
    "res.time"
   ]
  },
  {
   "cell_type": "code",
   "execution_count": 6,
   "metadata": {},
   "outputs": [
    {
     "data": {
      "text/plain": [
       "[array([0., 0., 0., 0., 0., 0., 0., 0., 0., 0.]),\n",
       " array([1., 1., 1., 1., 1., 1., 1., 1., 1., 1.])]"
      ]
     },
     "execution_count": 6,
     "metadata": {},
     "output_type": "execute_result"
    }
   ],
   "source": [
    "res.data"
   ]
  },
  {
   "cell_type": "markdown",
   "metadata": {},
   "source": [
    "## Or as a Pandas dataframe"
   ]
  },
  {
   "cell_type": "code",
   "execution_count": 7,
   "metadata": {},
   "outputs": [
    {
     "data": {
      "text/html": [
       "<div>\n",
       "<style scoped>\n",
       "    .dataframe tbody tr th:only-of-type {\n",
       "        vertical-align: middle;\n",
       "    }\n",
       "\n",
       "    .dataframe tbody tr th {\n",
       "        vertical-align: top;\n",
       "    }\n",
       "\n",
       "    .dataframe thead th {\n",
       "        text-align: right;\n",
       "    }\n",
       "</style>\n",
       "<table border=\"1\" class=\"dataframe\">\n",
       "  <thead>\n",
       "    <tr style=\"text-align: right;\">\n",
       "      <th></th>\n",
       "      <th>Zeros</th>\n",
       "      <th>Ones</th>\n",
       "    </tr>\n",
       "  </thead>\n",
       "  <tbody>\n",
       "    <tr>\n",
       "      <th>2000-01-01</th>\n",
       "      <td>0.0</td>\n",
       "      <td>1.0</td>\n",
       "    </tr>\n",
       "    <tr>\n",
       "      <th>2000-01-08</th>\n",
       "      <td>0.0</td>\n",
       "      <td>1.0</td>\n",
       "    </tr>\n",
       "    <tr>\n",
       "      <th>2000-01-15</th>\n",
       "      <td>0.0</td>\n",
       "      <td>1.0</td>\n",
       "    </tr>\n",
       "    <tr>\n",
       "      <th>2000-01-22</th>\n",
       "      <td>0.0</td>\n",
       "      <td>1.0</td>\n",
       "    </tr>\n",
       "    <tr>\n",
       "      <th>2000-01-29</th>\n",
       "      <td>0.0</td>\n",
       "      <td>1.0</td>\n",
       "    </tr>\n",
       "  </tbody>\n",
       "</table>\n",
       "</div>"
      ],
      "text/plain": [
       "            Zeros  Ones\n",
       "2000-01-01    0.0   1.0\n",
       "2000-01-08    0.0   1.0\n",
       "2000-01-15    0.0   1.0\n",
       "2000-01-22    0.0   1.0\n",
       "2000-01-29    0.0   1.0"
      ]
     },
     "execution_count": 7,
     "metadata": {},
     "output_type": "execute_result"
    }
   ],
   "source": [
    "df = dfs.read_to_pandas(\"test.dfs0\")\n",
    "df.head()"
   ]
  },
  {
   "cell_type": "markdown",
   "metadata": {},
   "source": [
    "## Create a timeseries with non-equidistant data"
   ]
  },
  {
   "cell_type": "code",
   "execution_count": 8,
   "metadata": {},
   "outputs": [],
   "source": [
    "data = []\n",
    "\n",
    "d1 = np.random.uniform(low=0.0, high=5.0, size=5)\n",
    "data.append(d1)\n",
    "\n",
    "datetimes = [\n",
    "    datetime(2000, 1, 1, 0, 0),\n",
    "    datetime(2000, 1, 8, 0, 0),\n",
    "    datetime(2000, 1, 10, 0, 0),\n",
    "    datetime(2000, 2, 22, 0, 0),\n",
    "    datetime(2000, 11, 29, 0, 0)\n",
    "]\n",
    "\n",
    "dfs = dfs0()\n",
    "\n",
    "\n",
    "dfs.create(filename=\"neq.dfs0\",\n",
    "           datetimes=datetimes, \n",
    "           data=data,\n",
    "           title=\"Non equidistant\"\n",
    ")"
   ]
  },
  {
   "cell_type": "markdown",
   "metadata": {},
   "source": [
    "## Create a timeseries with accumulated timestep"
   ]
  },
  {
   "cell_type": "markdown",
   "metadata": {},
   "source": [
    "## Find correct eum units"
   ]
  },
  {
   "cell_type": "code",
   "execution_count": 9,
   "metadata": {},
   "outputs": [
    {
     "data": {
      "text/plain": [
       "{100190: 'Correction of precipitation',\n",
       " 100192: 'Precipitation correction',\n",
       " 100232: 'Precipitation',\n",
       " 100233: 'Specific Precipitation',\n",
       " 100431: 'Precipitation Rate'}"
      ]
     },
     "execution_count": 9,
     "metadata": {},
     "output_type": "execute_result"
    }
   ],
   "source": [
    "from mikeio.dfs_util import type_list, unit_list\n",
    "\n",
    "\n",
    "type_list(\"Prec\")"
   ]
  },
  {
   "cell_type": "code",
   "execution_count": 10,
   "metadata": {},
   "outputs": [
    {
     "data": {
      "text/plain": [
       "{2004: 'mm/day',\n",
       " 2001: 'mm/hour',\n",
       " 2018: 'cm/hour',\n",
       " 2000: 'meter/sec',\n",
       " 2006: 'meter/day',\n",
       " 2009: 'feet/day',\n",
       " 2016: 'inch/hour',\n",
       " 2014: 'inch/min',\n",
       " 4802: 'inch/day',\n",
       " 2040: 'mm/year'}"
      ]
     },
     "execution_count": 10,
     "metadata": {},
     "output_type": "execute_result"
    }
   ],
   "source": [
    "unit_list(100431)"
   ]
  },
  {
   "cell_type": "code",
   "execution_count": 11,
   "metadata": {},
   "outputs": [],
   "source": [
    "from DHI.Generic.MikeZero.DFS import DataValueType\n",
    "n= 1000\n",
    "d1 = np.random.random([n])\n",
    "d2 = np.random.random([n])\n",
    "data = []\n",
    "data.append(d1)\n",
    "data.append(d2)\n",
    "start_time = datetime(2017, 1, 1)\n",
    "time_vector = []\n",
    "t = start_time\n",
    "random_dt = np.random.choice([1.0,2.0],size=n)\n",
    "for i in range(n):\n",
    "    t = t + timedelta(hours=random_dt[i])\n",
    "    time_vector.append(t)\n",
    "title = 'Hello Test'\n",
    "names = ['Water level', 'Precipitation']\n",
    "variable_type = [100000, 100431]\n",
    "unit = [1000, 2004]\n",
    "data_value_type = [DataValueType.Instantaneous, DataValueType.Accumulated]\n",
    "\n",
    "dfs = dfs0()\n",
    "dfs.create(filename='accumulated.dfs0', data=data,\n",
    "        datetimes=time_vector,\n",
    "        names=names, title=title,\n",
    "        variable_type=variable_type, unit=unit,\n",
    "        data_value_type=data_value_type)"
   ]
  },
  {
   "cell_type": "markdown",
   "metadata": {},
   "source": [
    "# Modify an existing timeseries\n",
    "\n",
    "The `write` method allows to modify the data without the need of specifying names, units etc. If you need to add variables, rename, change units, you must use `create` instead."
   ]
  },
  {
   "cell_type": "code",
   "execution_count": 12,
   "metadata": {},
   "outputs": [
    {
     "data": {
      "text/plain": [
       "DataSet(data, time, names)\n",
       "Number of items: 2\n",
       "Shape: (10,)\n",
       "2000-01-01 00:00:00 - 2000-03-04 00:00:00"
      ]
     },
     "execution_count": 12,
     "metadata": {},
     "output_type": "execute_result"
    }
   ],
   "source": [
    "res = dfs.read(\"test.dfs0\")\n",
    "res"
   ]
  },
  {
   "cell_type": "code",
   "execution_count": 13,
   "metadata": {},
   "outputs": [
    {
     "data": {
      "text/plain": [
       "array([1., 1., 1., 1., 1., 1., 1., 1., 1., 1.])"
      ]
     },
     "execution_count": 13,
     "metadata": {},
     "output_type": "execute_result"
    }
   ],
   "source": [
    "res['Ones']"
   ]
  },
  {
   "cell_type": "markdown",
   "metadata": {},
   "source": [
    "Modify the data in some way..."
   ]
  },
  {
   "cell_type": "code",
   "execution_count": 14,
   "metadata": {},
   "outputs": [
    {
     "data": {
      "text/plain": [
       "array([3.14159265, 3.14159265, 3.14159265, 3.14159265, 3.14159265,\n",
       "       3.14159265, 3.14159265, 3.14159265, 3.14159265, 3.14159265])"
      ]
     },
     "execution_count": 14,
     "metadata": {},
     "output_type": "execute_result"
    }
   ],
   "source": [
    "data = res.data\n",
    "data[1] = data[1]*np.pi\n",
    "data[1]"
   ]
  },
  {
   "cell_type": "code",
   "execution_count": 15,
   "metadata": {},
   "outputs": [],
   "source": [
    "from shutil import copyfile\n",
    "copyfile(\"test.dfs0\",\"modified.dfs0\")\n",
    "dfs.write(\"modified.dfs0\", data)"
   ]
  },
  {
   "cell_type": "code",
   "execution_count": 16,
   "metadata": {},
   "outputs": [
    {
     "data": {
      "text/plain": [
       "array([3.14159274, 3.14159274, 3.14159274, 3.14159274, 3.14159274,\n",
       "       3.14159274, 3.14159274, 3.14159274, 3.14159274, 3.14159274])"
      ]
     },
     "execution_count": 16,
     "metadata": {},
     "output_type": "execute_result"
    }
   ],
   "source": [
    "res = dfs.read(\"modified.dfs0\")\n",
    "res['Ones']"
   ]
  },
  {
   "cell_type": "markdown",
   "metadata": {},
   "source": [
    "The second item is modified."
   ]
  },
  {
   "cell_type": "code",
   "execution_count": 17,
   "metadata": {},
   "outputs": [
    {
     "data": {
      "text/plain": [
       "array([0., 0., 0., 0., 0., 0., 0., 0., 0., 0.])"
      ]
     },
     "execution_count": 17,
     "metadata": {},
     "output_type": "execute_result"
    }
   ],
   "source": [
    "res['Zeros']"
   ]
  },
  {
   "cell_type": "markdown",
   "metadata": {},
   "source": [
    "## Clean up"
   ]
  },
  {
   "cell_type": "code",
   "execution_count": 18,
   "metadata": {},
   "outputs": [],
   "source": [
    "import os\n",
    "\n",
    "os.remove(\"test.dfs0\")\n",
    "os.remove(\"modified.dfs0\")\n",
    "os.remove(\"neq.dfs0\")\n",
    "os.remove(\"accumulated.dfs0\")"
   ]
  }
 ],
 "metadata": {
  "kernelspec": {
   "display_name": "Python 3",
   "language": "python",
   "name": "python3"
  },
  "language_info": {
   "codemirror_mode": {
    "name": "ipython",
    "version": 3
   },
   "file_extension": ".py",
   "mimetype": "text/x-python",
   "name": "python",
   "nbconvert_exporter": "python",
   "pygments_lexer": "ipython3",
   "version": "3.7.4"
  }
 },
 "nbformat": 4,
 "nbformat_minor": 4
}
